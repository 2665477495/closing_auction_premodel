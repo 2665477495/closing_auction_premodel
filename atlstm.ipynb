{
 "cells": [
  {
   "cell_type": "code",
   "execution_count": 1,
   "metadata": {},
   "outputs": [
    {
     "data": {
      "text/plain": [
       "device(type='cuda', index=0)"
      ]
     },
     "execution_count": 1,
     "metadata": {},
     "output_type": "execute_result"
    }
   ],
   "source": [
    "import torch\n",
    "from torch import nn\n",
    "import torch.nn.init as init\n",
    "from torch.utils.data import DataLoader, TensorDataset, random_split\n",
    "from torch.functional import F\n",
    "import time\n",
    "import pandas as pd\n",
    "import numpy as np\n",
    "device = torch.device(\"cuda:0\" if torch.cuda.is_available() else \"cpu\")\n",
    "device"
   ]
  },
  {
   "cell_type": "code",
   "execution_count": 3,
   "metadata": {},
   "outputs": [],
   "source": [
    "df = pd.read_csv('data/train_gened.csv')"
   ]
  },
  {
   "cell_type": "code",
   "execution_count": 44,
   "metadata": {},
   "outputs": [],
   "source": [
    "def reduce_mem_usage(df, verbose=0):\n",
    "    start_mem = df.memory_usage().sum() / 1024**2\n",
    "\n",
    "    for col in df.columns:\n",
    "        col_type = df[col].dtype\n",
    "\n",
    "        if col_type != object:\n",
    "            c_min = df[col].min()\n",
    "            c_max = df[col].max()\n",
    "            if str(col_type)[:3] == \"int\":\n",
    "                if c_min > np.iinfo(np.int8).min and c_max < np.iinfo(np.int8).max:\n",
    "                    df[col] = df[col].astype(np.int8)\n",
    "                elif c_min > np.iinfo(np.int16).min and c_max < np.iinfo(np.int16).max:\n",
    "                    df[col] = df[col].astype(np.int16)\n",
    "                elif c_min > np.iinfo(np.int32).min and c_max < np.iinfo(np.int32).max:\n",
    "                    df[col] = df[col].astype(np.int32)\n",
    "                elif c_min > np.iinfo(np.int64).min and c_max < np.iinfo(np.int64).max:\n",
    "                    df[col] = df[col].astype(np.int64)\n",
    "            else:\n",
    "                if c_min > np.finfo(np.float16).min and c_max < np.finfo(np.float16).max:\n",
    "                    df[col] = df[col].astype(np.float16)\n",
    "                else:\n",
    "                    df[col] = df[col].astype(np.float32)\n",
    "\n",
    "    print(f\"DataFrame占用大小 {start_mem:.2f} MB\")\n",
    "    end_mem = df.memory_usage().sum() / 1024**2\n",
    "    print(f\"DataFrame优化后占用大小: {end_mem:.2f} MB\")\n",
    "    decrease = 100 * (start_mem - end_mem) / start_mem\n",
    "    print(f\"优化了 {decrease:.2f}%\")\n",
    "\n",
    "    return df"
   ]
  },
  {
   "cell_type": "markdown",
   "metadata": {},
   "source": [
    "# 数据载入"
   ]
  },
  {
   "cell_type": "code",
   "execution_count": 5,
   "metadata": {},
   "outputs": [],
   "source": [
    "x_cols = [c for c in df.columns if c not in ['row_id', 'time_id', 'date_id', 'target']]\n",
    "y_cols = [\"target\"]"
   ]
  },
  {
   "cell_type": "code",
   "execution_count": 6,
   "metadata": {},
   "outputs": [],
   "source": [
    "def normalize_features(x, means, stds):\n",
    "    return (x - means) / (stds + 1e-8)\n",
    "\n",
    "def get_xy(df, x_cols, y_cols, means, stds):\n",
    "    x = df[x_cols]\n",
    "    x = normalize_features(x, means, stds)\n",
    "    y = df[y_cols]\n",
    "    return x.values, y.values\n",
    "\n",
    "def get_dataloaders(df, x_cols, y_cols, batch_size=512):\n",
    "    # 划分训练集和测试集\n",
    "    train_size = int(len(df) * 0.8)\n",
    "    valid_size = len(df) - train_size\n",
    "    train_df, valid_df = random_split(df, [train_size, valid_size])\n",
    "\n",
    "    # 计算训练集的均值和标准差用于标准化\n",
    "    means = train_df.dataset.loc[train_df.indices][x_cols].mean()\n",
    "    stds = train_df.dataset.loc[train_df.indices][x_cols].std()\n",
    "\n",
    "    # 获取标准化后的训练集和测试集\n",
    "    x_train, y_train = get_xy(train_df.dataset.loc[train_df.indices], x_cols, y_cols, means, stds)\n",
    "    x_valid, y_valid = get_xy(valid_df.dataset.loc[valid_df.indices], x_cols, y_cols, means, stds)\n",
    "\n",
    "    # 转换为 PyTorch 张量\n",
    "    train_dataset = TensorDataset(torch.Tensor(x_train).to(device), torch.Tensor(y_train).to(device))\n",
    "    test_dataset = TensorDataset(torch.Tensor(x_valid).to(device), torch.Tensor(y_valid).to(device))\n",
    "\n",
    "    # 创建 DataLoader\n",
    "    train_dataloader = DataLoader(train_dataset, batch_size=batch_size, shuffle=True, drop_last=True)\n",
    "    test_dataloader = DataLoader(test_dataset, batch_size=min(batch_size * 4, len(test_dataset)), drop_last=True)\n",
    "\n",
    "    return train_dataloader, test_dataloader\n"
   ]
  },
  {
   "cell_type": "code",
   "execution_count": 7,
   "metadata": {},
   "outputs": [],
   "source": [
    "train_dataloader, test_dataloader = get_dataloaders(df, x_cols, y_cols)"
   ]
  },
  {
   "cell_type": "code",
   "execution_count": 88,
   "metadata": {},
   "outputs": [
    {
     "name": "stdout",
     "output_type": "stream",
     "text": [
      "torch.Size([512, 81]) torch.Size([512, 1])\n"
     ]
    }
   ],
   "source": [
    "for x, y in train_dataloader:\n",
    "    print(x.shape, y.shape)\n",
    "    break"
   ]
  },
  {
   "cell_type": "markdown",
   "metadata": {},
   "source": [
    "# 模型训练函数"
   ]
  },
  {
   "cell_type": "code",
   "execution_count": 8,
   "metadata": {},
   "outputs": [],
   "source": [
    "def train_loop(dataloader, model, loss_fn, optimizer, shortcut=0):\n",
    "    size = len(dataloader.dataset)\n",
    "    model.train()\n",
    "    num_batches = len(dataloader)\n",
    "\n",
    "    train_loss = 0\n",
    "    \n",
    "    for batch, (X, y) in enumerate(dataloader):\n",
    "        \n",
    "        pred = model(X)\n",
    "        \n",
    "        loss = loss_fn(pred, y)\n",
    "        train_loss += loss\n",
    "\n",
    "        loss.backward()\n",
    "        optimizer.step()\n",
    "        optimizer.zero_grad()\n",
    "        \n",
    "        if pred.std() < 0.000001:\n",
    "            print(\"WARNING: std() is zero, stopping\")\n",
    "            break\n",
    "        \n",
    "        if shortcut > 0 and batch == shortcut:\n",
    "            return train_loss.detach().cpu().numpy() / shortcut\n",
    "    return train_loss.detach().cpu().numpy() / num_batches\n",
    "\n",
    "\n",
    "def test_loop(dataloader, model, loss_fn):\n",
    "    model.eval()\n",
    "    size = len(dataloader.dataset)\n",
    "    num_batches = len(dataloader)\n",
    "    test_loss = 0\n",
    "    with torch.no_grad():\n",
    "        for X, y in dataloader:\n",
    "      \n",
    "            \n",
    "            pred = model(X)\n",
    "            test_loss += loss_fn(pred, y).detach().cpu().numpy()\n",
    "    \n",
    "        scheduler.step(test_loss)\n",
    "    return test_loss / num_batches\n",
    "        \n",
    "def predict(X, model):\n",
    "    model.eval()\n",
    "    with torch.no_grad():\n",
    "        pred = model(X)\n",
    "    return pred.detach().cpu().numpy().flatten()"
   ]
  },
  {
   "cell_type": "code",
   "execution_count": 9,
   "metadata": {},
   "outputs": [],
   "source": [
    "class EarlyStopper:\n",
    "    def __init__(self, patience=10, min_delta=0.00001):\n",
    "        self.best_model = None\n",
    "        self.patience = patience\n",
    "        self.min_delta = min_delta\n",
    "        self.counter = 0\n",
    "        self.min_validation_loss = float('inf')\n",
    "        \n",
    "    def get_best_model(self):\n",
    "        return self.best_model\n",
    "\n",
    "    def early_stop(self, validation_loss, model):\n",
    "        if validation_loss < self.min_validation_loss:\n",
    "            print(f\"New best loss: {validation_loss:>4f}\")\n",
    "            self.min_validation_loss = validation_loss\n",
    "            self.counter = 0\n",
    "            self.best_model = model\n",
    "        elif validation_loss > (self.min_validation_loss + self.min_delta):\n",
    "            self.counter += 1\n",
    "            if self.counter >= self.patience:\n",
    "                return True\n",
    "        return False"
   ]
  },
  {
   "cell_type": "markdown",
   "metadata": {},
   "source": [
    "# 构建模型"
   ]
  },
  {
   "cell_type": "code",
   "execution_count": 10,
   "metadata": {},
   "outputs": [],
   "source": [
    "def init_rnn(rnn, init_type='xavier'):\n",
    "    for name, param in rnn.named_parameters():\n",
    "        if 'bias' in name:\n",
    "            nn.init.constant_(param, 0.0)\n",
    "        elif 'weight' in name:\n",
    "            if init_type == 'xavier':\n",
    "                nn.init.xavier_normal_(param)\n",
    "            else:\n",
    "                nn.init.normal_(param)"
   ]
  },
  {
   "cell_type": "markdown",
   "metadata": {},
   "source": [
    "lstm"
   ]
  },
  {
   "cell_type": "code",
   "execution_count": 65,
   "metadata": {},
   "outputs": [],
   "source": [
    "class LSTM(nn.Module):\n",
    "    def __init__(self, input_size=81, hidden_layer_size=50, output_size=1, num_layers=5):\n",
    "        super().__init__()\n",
    "\n",
    "        self.input_size = input_size\n",
    "        self.hidden_layer_size = hidden_layer_size\n",
    "        self.num_layers = num_layers\n",
    "        self.batch_size = 1   \n",
    "\n",
    "        self.conv1d = nn.Conv1d(in_channels=input_size, out_channels=20, kernel_size=2)\n",
    "        self.lstm = nn.LSTM(20, hidden_layer_size, num_layers, dropout=0.2)\n",
    "\n",
    "        self.linear_adjust = nn.Linear(hidden_layer_size, hidden_layer_size) \n",
    "        self.fc1 = nn.Linear(hidden_layer_size, hidden_layer_size)\n",
    "        self.relu1 = nn.ReLU()\n",
    "        self.fc2 = nn.Linear(hidden_layer_size, hidden_layer_size)\n",
    "        self.relu2 = nn.ReLU()\n",
    "        self.fc3 = nn.Linear(hidden_layer_size, output_size)\n",
    "\n",
    "        self.dropout = nn.Dropout(0.2)\n",
    "\n",
    "        self.risidual = nn.Linear(hidden_layer_size, 1)\n",
    "\n",
    "        init_rnn(self.lstm, 'xavier')\n",
    "\n",
    "    def forward(self, input_seq):\n",
    "        input_seq = input_seq.unsqueeze(0).permute(0, 2, 1)\n",
    "        input_seq = self.conv1d(input_seq)\n",
    "        input_seq = input_seq.permute(0, 2, 1)\n",
    "        lstm_out, (hidden, _) = self.lstm(input_seq.reshape(len(input_seq[0]), 1, 20))\n",
    "        \n",
    "        adjusted_lstm_out = self.linear_adjust(lstm_out[-1])\n",
    "\n",
    "        out = self.fc1(adjusted_lstm_out)\n",
    "        out = self.relu1(out)\n",
    "        out = self.fc2(out)\n",
    "        out = self.relu2(out)\n",
    "        out = self.fc3(out)\n",
    "\n",
    "        out = torch.tanh(out)\n",
    "\n",
    "        return out[-1]\n"
   ]
  },
  {
   "cell_type": "markdown",
   "metadata": {},
   "source": [
    "原始AT-LSTM"
   ]
  },
  {
   "cell_type": "code",
   "execution_count": 66,
   "metadata": {},
   "outputs": [],
   "source": [
    "class LSTMwithAttention_1(nn.Module):\n",
    "    def __init__(self, input_size=81, hidden_layer_size=50, output_size=1, num_layers=5):\n",
    "        super().__init__()\n",
    "\n",
    "        self.input_size = input_size\n",
    "        self.hidden_layer_size = hidden_layer_size\n",
    "        self.num_layers = num_layers\n",
    "        self.batch_size = 1   \n",
    "\n",
    "        self.conv1d = nn.Conv1d(in_channels=input_size, out_channels=35, kernel_size=2)\n",
    "        self.lstm = nn.LSTM(20, hidden_layer_size, num_layers, dropout=0.2)\n",
    "\n",
    "        # 使用ReLU激活函数\n",
    "        self.fc1 = nn.Linear(hidden_layer_size, hidden_layer_size)\n",
    "        self.relu1 = nn.ReLU()\n",
    "        self.fc2 = nn.Linear(hidden_layer_size, hidden_layer_size)\n",
    "        self.relu2 = nn.ReLU()\n",
    "        self.fc3 = nn.Linear(hidden_layer_size, output_size)\n",
    "\n",
    "        self.dropout = nn.Dropout(0.5)\n",
    "        self.attn_weights = None\n",
    "\n",
    "        # 初始化LSTM层的权重\n",
    "        init_rnn(self.lstm, type='xavier')\n",
    "\n",
    "\n",
    "\n",
    "    def attention_net(self, lstm_output, final_state):\n",
    "        lstm_output = lstm_output.permute(1, 0, 2)\n",
    "        hidden = final_state.view(-1, self.hidden_layer_size, self.num_layers)\n",
    "        self.attn_weights = torch.bmm(lstm_output, hidden).squeeze(2)\n",
    "\n",
    "        soft_attn_weights = F.tanh(self.attn_weights)\n",
    "        context = torch.bmm(lstm_output.transpose(1, 2), soft_attn_weights).squeeze(2)\n",
    "        return context \n",
    "\n",
    "    def forward(self, input_seq):\n",
    "        input_seq = input_seq.unsqueeze(0).permute(0, 2, 1)\n",
    "        input_seq = self.conv1d(input_seq)\n",
    "        input_seq = input_seq.permute(0, 2, 1)\n",
    "        lstm_out, self.hidden_cell = self.lstm(input_seq.reshape(len(input_seq[0]), 1, 20))\n",
    "\n",
    "        attn_output = self.attention_net(lstm_out, self.hidden_cell[0])\n",
    "        \n",
    "        out = self.fc1(attn_output.view(-1, self.hidden_layer_size))\n",
    "        out = self.relu1(out)\n",
    "        out = self.fc2(out)\n",
    "        out = self.relu2(out)\n",
    "        out = self.fc3(out)\n",
    "        \n",
    "        return out[-1]"
   ]
  },
  {
   "cell_type": "markdown",
   "metadata": {},
   "source": [
    "LSTM与输出残差连接"
   ]
  },
  {
   "cell_type": "code",
   "execution_count": 67,
   "metadata": {},
   "outputs": [],
   "source": [
    "class LSTMwithAttention_2(nn.Module):\n",
    "    def __init__(self, input_size=81, hidden_layer_size=50, output_size=1, num_layers=5):\n",
    "        super().__init__()\n",
    "\n",
    "        self.input_size = input_size\n",
    "        self.hidden_layer_size = hidden_layer_size\n",
    "        self.num_layers = num_layers\n",
    "        self.batch_size = 1   \n",
    "\n",
    "        self.conv1d = nn.Conv1d(in_channels=input_size, out_channels=20, kernel_size=2)\n",
    "        self.lstm = nn.LSTM(20, hidden_layer_size, num_layers, dropout=0.2)\n",
    "\n",
    "        self.linear_adjust = nn.Linear(hidden_layer_size, hidden_layer_size) # 调整维度的线性层\n",
    "\n",
    "        self.fc1 = nn.Linear(hidden_layer_size, hidden_layer_size)\n",
    "        self.relu1 = nn.ReLU()\n",
    "        self.fc2 = nn.Linear(hidden_layer_size, hidden_layer_size)\n",
    "        self.relu2 = nn.ReLU()\n",
    "        self.fc3 = nn.Linear(hidden_layer_size, output_size)\n",
    "\n",
    "        self.dropout = nn.Dropout(0.5)\n",
    "        self.attn_weights = None\n",
    "        self.risidual = nn.Linear(hidden_layer_size, 1)\n",
    "\n",
    "        init_rnn(self.lstm, 'xavier')\n",
    "\n",
    "\n",
    "    def attention_net(self, lstm_output, final_state):\n",
    "        lstm_output = lstm_output.permute(1, 0, 2)\n",
    "        hidden = final_state.view(-1, self.hidden_layer_size, self.num_layers)\n",
    "        self.attn_weights = torch.bmm(lstm_output, hidden).squeeze(2)\n",
    "\n",
    "        soft_attn_weights = torch.tanh(self.attn_weights)\n",
    "        context = torch.bmm(lstm_output.transpose(1, 2), soft_attn_weights).squeeze(2)\n",
    "        return context \n",
    "\n",
    "    def forward(self, input_seq):\n",
    "        input_seq = input_seq.unsqueeze(0).permute(0, 2, 1)\n",
    "        input_seq = self.conv1d(input_seq)\n",
    "        input_seq = input_seq.permute(0, 2, 1)\n",
    "        lstm_out, self.hidden_cell = self.lstm(input_seq.reshape(len(input_seq[0]), 1, 20))\n",
    "\n",
    "        # 调整LSTM输出的维度\n",
    "        adjusted_lstm_out = self.linear_adjust(lstm_out[-1])\n",
    "        # print(f'adjusted_lstm_out.shape: {adjusted_lstm_out.shape}')\n",
    "\n",
    "        attn_output = self.attention_net(lstm_out, self.hidden_cell[0])\n",
    "        # print(f'attn_output.shape: {attn_output.shape}')\n",
    "        \n",
    "        # 线性层处理\n",
    "        out = self.fc1(attn_output.view(-1, self.hidden_layer_size))\n",
    "        out = self.relu1(out)\n",
    "        out = self.fc2(out)\n",
    "        out = self.relu2(out)\n",
    "        out = self.fc3(out)\n",
    "\n",
    "        \n",
    "        # 添加残差连接\n",
    "        out = self.risidual(adjusted_lstm_out) + out\n",
    "        # print(f'2out.shape: {out.shape}')\n",
    "        out = torch.tanh(out)\n",
    "\n",
    "        return out[-1]\n",
    "\n",
    "\n"
   ]
  },
  {
   "cell_type": "markdown",
   "metadata": {},
   "source": [
    "使用加性注意力"
   ]
  },
  {
   "cell_type": "code",
   "execution_count": 112,
   "metadata": {},
   "outputs": [],
   "source": [
    "class LSTMwithAttention_3(nn.Module):\n",
    "    def __init__(self, input_size=81, hidden_layer_size=50, output_size=1, num_layers=5):\n",
    "        super().__init__()\n",
    "\n",
    "        self.input_size = input_size\n",
    "        self.hidden_layer_size = hidden_layer_size\n",
    "        self.num_layers = num_layers\n",
    "        self.batch_size = 1   \n",
    "\n",
    "        self.conv1d = nn.Conv1d(in_channels=input_size, out_channels=20, kernel_size=2)\n",
    "        self.lstm = nn.LSTM(20, hidden_layer_size, num_layers, dropout=0.2)\n",
    "\n",
    "        self.linear_adjust = nn.Linear(hidden_layer_size, hidden_layer_size) \n",
    "        self.fc1 = nn.Linear(hidden_layer_size, 206)\n",
    "        self.relu1 = nn.ReLU()\n",
    "        self.fc2 = nn.Linear(206, 512)\n",
    "        self.relu2 = nn.ReLU()\n",
    "        self.fc3 = nn.Linear(512, 512)\n",
    "\n",
    "        self.dropout = nn.Dropout(0.2)\n",
    "\n",
    "        # 注意力机制的组件\n",
    "        self.attention_linear = nn.Linear(2 * hidden_layer_size, hidden_layer_size)\n",
    "        self.attention_vector = nn.Parameter(torch.randn(hidden_layer_size))\n",
    "\n",
    "        self.risidual = nn.Linear(hidden_layer_size, 1)\n",
    "\n",
    "        init_rnn(self.lstm, 'xavier')\n",
    "        \n",
    "    def attention_net(self, lstm_output, final_state):\n",
    "        hidden = final_state.repeat(lstm_output.size(0), 1, 1).transpose(0, 1)\n",
    "        lstm_output = lstm_output.transpose(0, 1)\n",
    "        attn_input = torch.cat((lstm_output, hidden), 2)\n",
    "        energy = torch.tanh(self.attention_linear(attn_input))\n",
    "        attention = torch.matmul(energy, self.attention_vector)\n",
    "        attention_weights = F.softmax(attention, dim=1)\n",
    "\n",
    "        new_hidden_state = torch.bmm(lstm_output.transpose(1, 2), attention_weights.unsqueeze(2)).squeeze(2)\n",
    "        return new_hidden_state\n",
    "\n",
    "    def forward(self, input_seq):\n",
    "        input_seq = input_seq.unsqueeze(0).permute(0, 2, 1)\n",
    "        # print(f'input_seq.shape: {input_seq.shape}')\n",
    "        input_seq = self.conv1d(input_seq)\n",
    "        # print(f'after conv1d, input_seq.shape: {input_seq.shape}')\n",
    "        input_seq = input_seq.permute(0, 2, 1)\n",
    "        # print(f'after permute, input_seq.shape: {input_seq.shape}')\n",
    "        lstm_out, (hidden, _) = self.lstm(input_seq.reshape(len(input_seq[0]), 1, 20))\n",
    "        # print(f'lstm_out.shape: {lstm_out.shape}')\n",
    "        adjusted_lstm_out = self.linear_adjust(lstm_out[-1])\n",
    "        \n",
    "        attn_output = self.attention_net(lstm_out, hidden[-1])\n",
    "        # print(f'attn_out.shape: {attn_output.shape}')\n",
    "\n",
    "        out = self.fc1(attn_output.view(-1, self.hidden_layer_size))\n",
    "        out = self.relu1(out)\n",
    "        out = self.fc2(out)\n",
    "        out = self.relu2(out)\n",
    "        out = self.fc3(out)\n",
    "        # print(f'out.shape: {out.shape}')\n",
    "        out = self.risidual(adjusted_lstm_out) + out\n",
    "        # print(f'2out.shape: {out.shape}')\n",
    "        out = torch.tanh(out).transpose(0, 1)\n",
    "        # print(f'3out.shape: {out.shape}')\n",
    "\n",
    "        return out\n",
    "\n"
   ]
  },
  {
   "cell_type": "code",
   "execution_count": 113,
   "metadata": {},
   "outputs": [],
   "source": [
    "model = LSTMwithAttention_3().to(device)"
   ]
  },
  {
   "cell_type": "code",
   "execution_count": 114,
   "metadata": {},
   "outputs": [],
   "source": [
    "optimizer = torch.optim.Adam(model.parameters(), lr=0.0008, weight_decay=0.00001)\n",
    "scheduler = torch.optim.lr_scheduler.ReduceLROnPlateau(optimizer, 'min', patience=8, factor=0.5, verbose=True)\n",
    "early_stopper = EarlyStopper(patience=15, min_delta=0.0001)\n",
    "\n",
    "loss_fn = nn.L1Loss()"
   ]
  },
  {
   "cell_type": "code",
   "execution_count": 115,
   "metadata": {},
   "outputs": [
    {
     "name": "stdout",
     "output_type": "stream",
     "text": [
      "Epoch   1 Train: 6.409966 "
     ]
    },
    {
     "name": "stderr",
     "output_type": "stream",
     "text": [
      "c:\\Users\\zhiwei\\anaconda3\\envs\\torchenv\\lib\\site-packages\\torch\\nn\\modules\\loss.py:101: UserWarning: Using a target size (torch.Size([2048, 1])) that is different to the input size (torch.Size([512, 1])). This will likely lead to incorrect results due to broadcasting. Please ensure they have the same size.\n",
      "  return F.l1_loss(input, target, reduction=self.reduction)\n"
     ]
    },
    {
     "ename": "RuntimeError",
     "evalue": "The size of tensor a (512) must match the size of tensor b (2048) at non-singleton dimension 0",
     "output_type": "error",
     "traceback": [
      "\u001b[1;31m---------------------------------------------------------------------------\u001b[0m",
      "\u001b[1;31mRuntimeError\u001b[0m                              Traceback (most recent call last)",
      "\u001b[1;32md:\\project\\kaggle\\closing_auction_premodel\\atlstm.ipynb 单元格 24\u001b[0m line \u001b[0;36m1\n\u001b[0;32m      <a href='vscode-notebook-cell:/d%3A/project/kaggle/closing_auction_premodel/atlstm.ipynb#X30sZmlsZQ%3D%3D?line=7'>8</a>\u001b[0m train_loss \u001b[39m=\u001b[39m train_loop(train_dataloader, model, loss_fn, optimizer, shortcut\u001b[39m=\u001b[39m\u001b[39m0\u001b[39m)\n\u001b[0;32m      <a href='vscode-notebook-cell:/d%3A/project/kaggle/closing_auction_premodel/atlstm.ipynb#X30sZmlsZQ%3D%3D?line=8'>9</a>\u001b[0m \u001b[39mprint\u001b[39m(\u001b[39mf\u001b[39m\u001b[39m\"\u001b[39m\u001b[39mTrain: \u001b[39m\u001b[39m{\u001b[39;00mtrain_loss\u001b[39m:\u001b[39;00m\u001b[39m>5f\u001b[39m\u001b[39m}\u001b[39;00m\u001b[39m\"\u001b[39m, end\u001b[39m=\u001b[39m\u001b[39m\"\u001b[39m\u001b[39m \u001b[39m\u001b[39m\"\u001b[39m)\n\u001b[1;32m---> <a href='vscode-notebook-cell:/d%3A/project/kaggle/closing_auction_premodel/atlstm.ipynb#X30sZmlsZQ%3D%3D?line=9'>10</a>\u001b[0m test_loss \u001b[39m=\u001b[39m test_loop(test_dataloader, model, loss_fn)\n\u001b[0;32m     <a href='vscode-notebook-cell:/d%3A/project/kaggle/closing_auction_premodel/atlstm.ipynb#X30sZmlsZQ%3D%3D?line=10'>11</a>\u001b[0m \u001b[39mprint\u001b[39m(\u001b[39mf\u001b[39m\u001b[39m\"\u001b[39m\u001b[39m| Test: \u001b[39m\u001b[39m{\u001b[39;00mtest_loss\u001b[39m:\u001b[39;00m\u001b[39m>5f\u001b[39m\u001b[39m}\u001b[39;00m\u001b[39m\"\u001b[39m)\n\u001b[0;32m     <a href='vscode-notebook-cell:/d%3A/project/kaggle/closing_auction_premodel/atlstm.ipynb#X30sZmlsZQ%3D%3D?line=12'>13</a>\u001b[0m \u001b[39mif\u001b[39;00m early_stopper\u001b[39m.\u001b[39mearly_stop(test_loss, model) \u001b[39mor\u001b[39;00m time\u001b[39m.\u001b[39mtime() \u001b[39m-\u001b[39m t1 \u001b[39m>\u001b[39m \u001b[39m60\u001b[39m\u001b[39m*\u001b[39m\u001b[39m60\u001b[39m\u001b[39m*\u001b[39m\u001b[39m8\u001b[39m:  \n",
      "\u001b[1;32md:\\project\\kaggle\\closing_auction_premodel\\atlstm.ipynb 单元格 24\u001b[0m line \u001b[0;36m4\n\u001b[0;32m     <a href='vscode-notebook-cell:/d%3A/project/kaggle/closing_auction_premodel/atlstm.ipynb#X30sZmlsZQ%3D%3D?line=36'>37</a>\u001b[0m     \u001b[39mfor\u001b[39;00m X, y \u001b[39min\u001b[39;00m dataloader:\n\u001b[0;32m     <a href='vscode-notebook-cell:/d%3A/project/kaggle/closing_auction_premodel/atlstm.ipynb#X30sZmlsZQ%3D%3D?line=39'>40</a>\u001b[0m         pred \u001b[39m=\u001b[39m model(X)\n\u001b[1;32m---> <a href='vscode-notebook-cell:/d%3A/project/kaggle/closing_auction_premodel/atlstm.ipynb#X30sZmlsZQ%3D%3D?line=40'>41</a>\u001b[0m         test_loss \u001b[39m+\u001b[39m\u001b[39m=\u001b[39m loss_fn(pred, y)\u001b[39m.\u001b[39mdetach()\u001b[39m.\u001b[39mcpu()\u001b[39m.\u001b[39mnumpy()\n\u001b[0;32m     <a href='vscode-notebook-cell:/d%3A/project/kaggle/closing_auction_premodel/atlstm.ipynb#X30sZmlsZQ%3D%3D?line=42'>43</a>\u001b[0m     scheduler\u001b[39m.\u001b[39mstep(test_loss)\n\u001b[0;32m     <a href='vscode-notebook-cell:/d%3A/project/kaggle/closing_auction_premodel/atlstm.ipynb#X30sZmlsZQ%3D%3D?line=43'>44</a>\u001b[0m \u001b[39mreturn\u001b[39;00m test_loss \u001b[39m/\u001b[39m num_batches\n",
      "File \u001b[1;32mc:\\Users\\zhiwei\\anaconda3\\envs\\torchenv\\lib\\site-packages\\torch\\nn\\modules\\module.py:1518\u001b[0m, in \u001b[0;36mModule._wrapped_call_impl\u001b[1;34m(self, *args, **kwargs)\u001b[0m\n\u001b[0;32m   1516\u001b[0m     \u001b[39mreturn\u001b[39;00m \u001b[39mself\u001b[39m\u001b[39m.\u001b[39m_compiled_call_impl(\u001b[39m*\u001b[39margs, \u001b[39m*\u001b[39m\u001b[39m*\u001b[39mkwargs)  \u001b[39m# type: ignore[misc]\u001b[39;00m\n\u001b[0;32m   1517\u001b[0m \u001b[39melse\u001b[39;00m:\n\u001b[1;32m-> 1518\u001b[0m     \u001b[39mreturn\u001b[39;00m \u001b[39mself\u001b[39m\u001b[39m.\u001b[39m_call_impl(\u001b[39m*\u001b[39margs, \u001b[39m*\u001b[39m\u001b[39m*\u001b[39mkwargs)\n",
      "File \u001b[1;32mc:\\Users\\zhiwei\\anaconda3\\envs\\torchenv\\lib\\site-packages\\torch\\nn\\modules\\module.py:1527\u001b[0m, in \u001b[0;36mModule._call_impl\u001b[1;34m(self, *args, **kwargs)\u001b[0m\n\u001b[0;32m   1522\u001b[0m \u001b[39m# If we don't have any hooks, we want to skip the rest of the logic in\u001b[39;00m\n\u001b[0;32m   1523\u001b[0m \u001b[39m# this function, and just call forward.\u001b[39;00m\n\u001b[0;32m   1524\u001b[0m \u001b[39mif\u001b[39;00m \u001b[39mnot\u001b[39;00m (\u001b[39mself\u001b[39m\u001b[39m.\u001b[39m_backward_hooks \u001b[39mor\u001b[39;00m \u001b[39mself\u001b[39m\u001b[39m.\u001b[39m_backward_pre_hooks \u001b[39mor\u001b[39;00m \u001b[39mself\u001b[39m\u001b[39m.\u001b[39m_forward_hooks \u001b[39mor\u001b[39;00m \u001b[39mself\u001b[39m\u001b[39m.\u001b[39m_forward_pre_hooks\n\u001b[0;32m   1525\u001b[0m         \u001b[39mor\u001b[39;00m _global_backward_pre_hooks \u001b[39mor\u001b[39;00m _global_backward_hooks\n\u001b[0;32m   1526\u001b[0m         \u001b[39mor\u001b[39;00m _global_forward_hooks \u001b[39mor\u001b[39;00m _global_forward_pre_hooks):\n\u001b[1;32m-> 1527\u001b[0m     \u001b[39mreturn\u001b[39;00m forward_call(\u001b[39m*\u001b[39margs, \u001b[39m*\u001b[39m\u001b[39m*\u001b[39mkwargs)\n\u001b[0;32m   1529\u001b[0m \u001b[39mtry\u001b[39;00m:\n\u001b[0;32m   1530\u001b[0m     result \u001b[39m=\u001b[39m \u001b[39mNone\u001b[39;00m\n",
      "File \u001b[1;32mc:\\Users\\zhiwei\\anaconda3\\envs\\torchenv\\lib\\site-packages\\torch\\nn\\modules\\loss.py:101\u001b[0m, in \u001b[0;36mL1Loss.forward\u001b[1;34m(self, input, target)\u001b[0m\n\u001b[0;32m    100\u001b[0m \u001b[39mdef\u001b[39;00m \u001b[39mforward\u001b[39m(\u001b[39mself\u001b[39m, \u001b[39minput\u001b[39m: Tensor, target: Tensor) \u001b[39m-\u001b[39m\u001b[39m>\u001b[39m Tensor:\n\u001b[1;32m--> 101\u001b[0m     \u001b[39mreturn\u001b[39;00m F\u001b[39m.\u001b[39;49ml1_loss(\u001b[39minput\u001b[39;49m, target, reduction\u001b[39m=\u001b[39;49m\u001b[39mself\u001b[39;49m\u001b[39m.\u001b[39;49mreduction)\n",
      "File \u001b[1;32mc:\\Users\\zhiwei\\anaconda3\\envs\\torchenv\\lib\\site-packages\\torch\\nn\\functional.py:3297\u001b[0m, in \u001b[0;36ml1_loss\u001b[1;34m(input, target, size_average, reduce, reduction)\u001b[0m\n\u001b[0;32m   3294\u001b[0m \u001b[39mif\u001b[39;00m size_average \u001b[39mis\u001b[39;00m \u001b[39mnot\u001b[39;00m \u001b[39mNone\u001b[39;00m \u001b[39mor\u001b[39;00m reduce \u001b[39mis\u001b[39;00m \u001b[39mnot\u001b[39;00m \u001b[39mNone\u001b[39;00m:\n\u001b[0;32m   3295\u001b[0m     reduction \u001b[39m=\u001b[39m _Reduction\u001b[39m.\u001b[39mlegacy_get_string(size_average, reduce)\n\u001b[1;32m-> 3297\u001b[0m expanded_input, expanded_target \u001b[39m=\u001b[39m torch\u001b[39m.\u001b[39;49mbroadcast_tensors(\u001b[39minput\u001b[39;49m, target)\n\u001b[0;32m   3298\u001b[0m \u001b[39mreturn\u001b[39;00m torch\u001b[39m.\u001b[39m_C\u001b[39m.\u001b[39m_nn\u001b[39m.\u001b[39ml1_loss(expanded_input, expanded_target, _Reduction\u001b[39m.\u001b[39mget_enum(reduction))\n",
      "File \u001b[1;32mc:\\Users\\zhiwei\\anaconda3\\envs\\torchenv\\lib\\site-packages\\torch\\functional.py:73\u001b[0m, in \u001b[0;36mbroadcast_tensors\u001b[1;34m(*tensors)\u001b[0m\n\u001b[0;32m     71\u001b[0m \u001b[39mif\u001b[39;00m has_torch_function(tensors):\n\u001b[0;32m     72\u001b[0m     \u001b[39mreturn\u001b[39;00m handle_torch_function(broadcast_tensors, tensors, \u001b[39m*\u001b[39mtensors)\n\u001b[1;32m---> 73\u001b[0m \u001b[39mreturn\u001b[39;00m _VF\u001b[39m.\u001b[39;49mbroadcast_tensors(tensors)\n",
      "\u001b[1;31mRuntimeError\u001b[0m: The size of tensor a (512) must match the size of tensor b (2048) at non-singleton dimension 0"
     ]
    }
   ],
   "source": [
    "history = pd.DataFrame([], columns=[\"epoch\",\"train_loss\",\"test_loss\",\"lr\"])\n",
    "\n",
    "t1 = time.time()\n",
    "\n",
    "for epoch in range(20):\n",
    "    \n",
    "    print(f\"Epoch {epoch+1:>3d}\",end=\" \")\n",
    "    train_loss = train_loop(train_dataloader, model, loss_fn, optimizer, shortcut=0)\n",
    "    print(f\"Train: {train_loss:>5f}\", end=\" \")\n",
    "    test_loss = test_loop(test_dataloader, model, loss_fn)\n",
    "    print(f\"| Test: {test_loss:>5f}\")\n",
    "\n",
    "    if early_stopper.early_stop(test_loss, model) or time.time() - t1 > 60*60*8:  \n",
    "        model = early_stopper.get_best_model()\n",
    "        break\n",
    "\n",
    "    history.loc[len(history),:] = [epoch+1, train_loss, test_loss, optimizer.param_groups[0]['lr']]\n"
   ]
  },
  {
   "cell_type": "code",
   "execution_count": 73,
   "metadata": {},
   "outputs": [
    {
     "data": {
      "text/html": [
       "<div>\n",
       "<style scoped>\n",
       "    .dataframe tbody tr th:only-of-type {\n",
       "        vertical-align: middle;\n",
       "    }\n",
       "\n",
       "    .dataframe tbody tr th {\n",
       "        vertical-align: top;\n",
       "    }\n",
       "\n",
       "    .dataframe thead th {\n",
       "        text-align: right;\n",
       "    }\n",
       "</style>\n",
       "<table border=\"1\" class=\"dataframe\">\n",
       "  <thead>\n",
       "    <tr style=\"text-align: right;\">\n",
       "      <th></th>\n",
       "      <th>epoch</th>\n",
       "      <th>train_loss</th>\n",
       "      <th>test_loss</th>\n",
       "      <th>lr</th>\n",
       "    </tr>\n",
       "  </thead>\n",
       "  <tbody>\n",
       "    <tr>\n",
       "      <th>0</th>\n",
       "      <td>1</td>\n",
       "      <td>6.409797</td>\n",
       "      <td>6.398921</td>\n",
       "      <td>0.0008</td>\n",
       "    </tr>\n",
       "    <tr>\n",
       "      <th>1</th>\n",
       "      <td>2</td>\n",
       "      <td>6.409755</td>\n",
       "      <td>6.398902</td>\n",
       "      <td>0.0008</td>\n",
       "    </tr>\n",
       "    <tr>\n",
       "      <th>2</th>\n",
       "      <td>3</td>\n",
       "      <td>6.40979</td>\n",
       "      <td>6.398913</td>\n",
       "      <td>0.0008</td>\n",
       "    </tr>\n",
       "    <tr>\n",
       "      <th>3</th>\n",
       "      <td>4</td>\n",
       "      <td>6.409748</td>\n",
       "      <td>6.398913</td>\n",
       "      <td>0.0008</td>\n",
       "    </tr>\n",
       "    <tr>\n",
       "      <th>4</th>\n",
       "      <td>5</td>\n",
       "      <td>6.409716</td>\n",
       "      <td>6.398977</td>\n",
       "      <td>0.0008</td>\n",
       "    </tr>\n",
       "    <tr>\n",
       "      <th>5</th>\n",
       "      <td>6</td>\n",
       "      <td>6.409779</td>\n",
       "      <td>6.3989</td>\n",
       "      <td>0.0008</td>\n",
       "    </tr>\n",
       "    <tr>\n",
       "      <th>6</th>\n",
       "      <td>7</td>\n",
       "      <td>6.409784</td>\n",
       "      <td>6.398911</td>\n",
       "      <td>0.0008</td>\n",
       "    </tr>\n",
       "    <tr>\n",
       "      <th>7</th>\n",
       "      <td>8</td>\n",
       "      <td>6.409763</td>\n",
       "      <td>6.3989</td>\n",
       "      <td>0.0008</td>\n",
       "    </tr>\n",
       "    <tr>\n",
       "      <th>8</th>\n",
       "      <td>9</td>\n",
       "      <td>6.409755</td>\n",
       "      <td>6.398926</td>\n",
       "      <td>0.0008</td>\n",
       "    </tr>\n",
       "  </tbody>\n",
       "</table>\n",
       "</div>"
      ],
      "text/plain": [
       "  epoch train_loss test_loss      lr\n",
       "0     1   6.409797  6.398921  0.0008\n",
       "1     2   6.409755  6.398902  0.0008\n",
       "2     3    6.40979  6.398913  0.0008\n",
       "3     4   6.409748  6.398913  0.0008\n",
       "4     5   6.409716  6.398977  0.0008\n",
       "5     6   6.409779    6.3989  0.0008\n",
       "6     7   6.409784  6.398911  0.0008\n",
       "7     8   6.409763    6.3989  0.0008\n",
       "8     9   6.409755  6.398926  0.0008"
      ]
     },
     "execution_count": 73,
     "metadata": {},
     "output_type": "execute_result"
    }
   ],
   "source": [
    "history"
   ]
  },
  {
   "cell_type": "code",
   "execution_count": 85,
   "metadata": {},
   "outputs": [
    {
     "data": {
      "image/png": "[encoded data removed]",
      "text/plain": [
       "<Figure size 1000x500 with 1 Axes>"
      ]
     },
     "metadata": {},
     "output_type": "display_data"
    }
   ],
   "source": [
    "import matplotlib.pyplot as plt\n",
    "plt.figure(figsize=(10, 5))\n",
    "plt.plot(history['train_loss'], label='train_loss',color='red')\n",
    "plt.plot(history['test_loss'], label='test_loss',color='blue')\n",
    "\n",
    "plt.ylim(6.395, 6.419)\n",
    "plt.xlabel('epoch')\n",
    "plt.ylabel('loss')\n",
    "plt.legend()\n",
    "plt.show()"
   ]
  },
  {
   "cell_type": "code",
   "execution_count": null,
   "metadata": {},
   "outputs": [],
   "source": [
    "history.to_csv(\"history_2.csv\", index=False)"
   ]
  },
  {
   "cell_type": "code",
   "execution_count": null,
   "metadata": {},
   "outputs": [
    {
     "name": "stderr",
     "output_type": "stream",
     "text": [
      "c:\\Users\\zhiwei\\anaconda3\\envs\\torchenv\\lib\\site-packages\\torch\\nn\\modules\\loss.py:101: UserWarning:\n",
      "\n",
      "Using a target size (torch.Size([2048, 1])) that is different to the input size (torch.Size([1])). This will likely lead to incorrect results due to broadcasting. Please ensure they have the same size.\n",
      "\n"
     ]
    }
   ],
   "source": [
    "# predict\n",
    "mae = test_loop(test_dataloader, model, loss_fn)"
   ]
  },
  {
   "cell_type": "code",
   "execution_count": null,
   "metadata": {},
   "outputs": [
    {
     "data": {
      "text/plain": [
       "6.416089995733213"
      ]
     },
     "execution_count": 53,
     "metadata": {},
     "output_type": "execute_result"
    }
   ],
   "source": [
    "mae"
   ]
  },
  {
   "cell_type": "code",
   "execution_count": null,
   "metadata": {},
   "outputs": [
    {
     "name": "stdout",
     "output_type": "stream",
     "text": [
      "Memory usage of dataframe is 2797.34 MB\n",
      "Memory usage after optimization is: 914.13 MB\n",
      "Decreased by 67.32%\n"
     ]
    }
   ],
   "source": [
    "def reduce_mem_usage(df, verbose=0):\n",
    "    start_mem = df.memory_usage().sum() / 1024**2\n",
    "\n",
    "    for col in df.columns:\n",
    "        col_type = df[col].dtype\n",
    "\n",
    "        if col_type != object:\n",
    "            c_min = df[col].min()\n",
    "            c_max = df[col].max()\n",
    "            if str(col_type)[:3] == \"int\":\n",
    "                if c_min > np.iinfo(np.int8).min and c_max < np.iinfo(np.int8).max:\n",
    "                    df[col] = df[col].astype(np.int8)\n",
    "                elif c_min > np.iinfo(np.int16).min and c_max < np.iinfo(np.int16).max:\n",
    "                    df[col] = df[col].astype(np.int16)\n",
    "                elif c_min > np.iinfo(np.int32).min and c_max < np.iinfo(np.int32).max:\n",
    "                    df[col] = df[col].astype(np.int32)\n",
    "                elif c_min > np.iinfo(np.int64).min and c_max < np.iinfo(np.int64).max:\n",
    "                    df[col] = df[col].astype(np.int64)\n",
    "            else:\n",
    "                if c_min > np.finfo(np.float16).min and c_max < np.finfo(np.float16).max:\n",
    "                    df[col] = df[col].astype(np.float16)\n",
    "                else:\n",
    "                    df[col] = df[col].astype(np.float32)\n",
    "\n",
    "    print(f\"Memory usage of dataframe is {start_mem:.2f} MB\")\n",
    "    end_mem = df.memory_usage().sum() / 1024**2\n",
    "    print(f\"Memory usage after optimization is: {end_mem:.2f} MB\")\n",
    "    decrease = 100 * (start_mem - end_mem) / start_mem\n",
    "    print(f\"Decreased by {decrease:.2f}%\")\n",
    "\n",
    "    return df\n",
    "\n",
    "df = reduce_mem_usage(df, verbose=1)"
   ]
  },
  {
   "cell_type": "code",
   "execution_count": null,
   "metadata": {},
   "outputs": [],
   "source": []
  }
 ],
 "metadata": {
  "kernelspec": {
   "display_name": "torchenv",
   "language": "python",
   "name": "python3"
  },
  "language_info": {
   "codemirror_mode": {
    "name": "ipython",
    "version": 3
   },
   "file_extension": ".py",
   "mimetype": "text/x-python",
   "name": "python",
   "nbconvert_exporter": "python",
   "pygments_lexer": "ipython3",
   "version": "3.9.18"
  }
 },
 "nbformat": 4,
 "nbformat_minor": 2
}
