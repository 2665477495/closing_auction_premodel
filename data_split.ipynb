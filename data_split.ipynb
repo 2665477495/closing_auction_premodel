{
 "cells": [
  {
   "cell_type": "code",
   "execution_count": 1,
   "metadata": {},
   "outputs": [],
   "source": [
    "import pandas as pd\n",
    "import torch\n",
    "import numpy as np"
   ]
  },
  {
   "cell_type": "code",
   "execution_count": 158,
   "metadata": {},
   "outputs": [],
   "source": [
    "data = pd.read_csv('data/train_cleaned.csv')\n",
    "data.drop(columns=['Unnamed: 0'], inplace=True)"
   ]
  },
  {
   "cell_type": "code",
   "execution_count": 110,
   "metadata": {},
   "outputs": [
    {
     "data": {
      "text/plain": [
       "5132160"
      ]
     },
     "execution_count": 110,
     "metadata": {},
     "output_type": "execute_result"
    }
   ],
   "source": [
    "data.shape[0] "
   ]
  },
  {
   "cell_type": "code",
   "execution_count": 111,
   "metadata": {},
   "outputs": [],
   "source": [
    "data = data[data['date_id']<=5]"
   ]
  },
  {
   "cell_type": "code",
   "execution_count": 112,
   "metadata": {},
   "outputs": [],
   "source": [
    "features = ['seconds_in_bucket', 'imbalance_size', 'imbalance_buy_sell_flag', \n",
    "                'reference_price', 'matched_size', 'far_price', 'near_price', \n",
    "                'bid_price', 'bid_size', 'ask_price', 'ask_size', 'wap','stock_id']"
   ]
  },
  {
   "cell_type": "markdown",
   "metadata": {},
   "source": [
    "df的大小是(windows，stock，features)"
   ]
  },
  {
   "cell_type": "code",
   "execution_count": 160,
   "metadata": {},
   "outputs": [
    {
     "data": {
      "text/plain": [
       "(196,)"
      ]
     },
     "execution_count": 160,
     "metadata": {},
     "output_type": "execute_result"
    }
   ],
   "source": [
    "data['stock_id'].unique().shape"
   ]
  },
  {
   "cell_type": "markdown",
   "metadata": {},
   "source": []
  },
  {
   "cell_type": "code",
   "execution_count": 114,
   "metadata": {},
   "outputs": [
    {
     "data": {
      "text/plain": [
       "(61820, 13)"
      ]
     },
     "execution_count": 114,
     "metadata": {},
     "output_type": "execute_result"
    }
   ],
   "source": [
    "data[features].values.shape"
   ]
  },
  {
   "cell_type": "code",
   "execution_count": 115,
   "metadata": {},
   "outputs": [],
   "source": [
    "import numpy as np\n",
    "import torch\n",
    "\n",
    "def create_lstm_input(data, window_size, index, features):\n",
    "    \n",
    "    data_temp = data[(data['time_id']>=index) & (data['time_id']<=index+window_size-1)]\n",
    "    all_stocks_data = [data_temp[data_temp['time_id'] == i][features].values for i in range(index, index+window_size)]\n",
    "    return torch.tensor(np.array(all_stocks_data))\n",
    "\n",
    "def create_target(data, window_size, index):\n",
    "    data_temp = data[(data['time_id']>=index) & (data['time_id']<=index+window_size-1)]\n",
    "    all_stocks_data = [data_temp[data_temp['time_id'] == i][['target']].values for i in range(index, index+window_size)]\n",
    "    return torch.tensor(np.array(all_stocks_data))[-1, :, :]\n"
   ]
  },
  {
   "cell_type": "code",
   "execution_count": null,
   "metadata": {},
   "outputs": [],
   "source": [
    "# def get_batch_data(data, window_size, features):\n",
    "#     batch_data = []\n",
    "#     target_data = []\n",
    "#     for index in range(data.shape[0]/100):\n",
    "#         if index+window_size-1 > data['time_id'].max():\n",
    "#             print(f'batch size {index}')\n",
    "#             break\n",
    "#         batch_data.append(create_lstm_input(data, window_size, index, features))\n",
    "#         target_data.append(create_target(data, window_size, index))\n",
    "#     batch_data = torch.tensor(np.array(batch_data)).permute(0, 2, 1, 3)    \n",
    "#     target_data = torch.tensor(np.array(target_data))\n",
    "#     return batch_data, target_data\n",
    "batch_data = []\n",
    "target_data = []\n",
    "window_size = 55\n",
    "for index in range(data['time_id'].max()-window_size+2):\n",
    "    # if index+window_size-1 > data['time_id'].max():\n",
    "    #     print(f'batch size {index}')\n",
    "    #     break\n",
    "    print(index)\n",
    "    batch_data.append(create_lstm_input(data, window_size, index, features))\n",
    "    target_data.append(create_target(data, window_size, index))\n",
    "\n",
    "batch_data = torch.tensor(np.array(batch_data)) \n",
    "target_data = torch.tensor(np.array(target_data))\n",
    "# input into model\n",
    "# train \n",
    "# save model and optimizer\n",
    "\n"
   ]
  },
  {
   "cell_type": "code",
   "execution_count": 108,
   "metadata": {},
   "outputs": [
    {
     "data": {
      "text/plain": [
       "torch.Size([111, 55, 187, 13])"
      ]
     },
     "execution_count": 108,
     "metadata": {},
     "output_type": "execute_result"
    }
   ],
   "source": [
    "batch_data.shape"
   ]
  },
  {
   "cell_type": "code",
   "execution_count": 118,
   "metadata": {},
   "outputs": [
    {
     "data": {
      "text/plain": [
       "276"
      ]
     },
     "execution_count": 118,
     "metadata": {},
     "output_type": "execute_result"
    }
   ],
   "source": [
    "data['time_id'].max()-window_size+2"
   ]
  },
  {
   "cell_type": "code",
   "execution_count": 156,
   "metadata": {},
   "outputs": [
    {
     "data": {
      "text/plain": [
       "array([  0,   1,   2,   3,   4,   5,   6,   7,   8,   9,  10,  11,  12,\n",
       "        13,  14,  15,  16,  17,  18,  20,  21,  22,  23,  24,  25,  26,\n",
       "        27,  28,  29,  30,  31,  32,  33,  34,  35,  36,  37,  38,  39,\n",
       "        40,  41,  42,  43,  44,  45,  46,  47,  48,  49,  50,  51,  52,\n",
       "        53,  54,  55,  56,  57,  58,  59,  60,  61,  62,  63,  64,  65,\n",
       "        66,  67,  68,  70,  71,  72,  73,  74,  75,  76,  77,  80,  81,\n",
       "        82,  83,  84,  85,  86,  87,  88,  89,  90,  91,  92,  93,  94,\n",
       "        95,  96,  97,  98,  99, 100, 103, 104, 105, 106, 107, 108, 109,\n",
       "       110, 111, 112, 113, 114, 115, 116, 117, 118, 119, 120, 121, 122,\n",
       "       123, 124, 125, 126, 127, 128, 129, 130, 132, 133, 134, 136, 137,\n",
       "       138, 139, 140, 141, 142, 143, 144, 145, 146, 147, 148, 149, 151,\n",
       "       152, 154, 155, 157, 159, 160, 161, 162, 163, 164, 165, 166, 167,\n",
       "       168, 169, 170, 171, 172, 173, 174, 175, 176, 177, 178, 179, 180,\n",
       "       181, 182, 183, 184, 185, 186, 187, 188, 189, 190, 191, 192, 193,\n",
       "       194, 195, 196, 197, 198], dtype=int64)"
      ]
     },
     "execution_count": 156,
     "metadata": {},
     "output_type": "execute_result"
    }
   ],
   "source": [
    "data[data['time_id']==219]['stock_id'].unique()"
   ]
  },
  {
   "cell_type": "code",
   "execution_count": 155,
   "metadata": {},
   "outputs": [
    {
     "data": {
      "text/plain": [
       "array([  0,   1,   2,   3,   4,   5,   6,   7,   8,   9,  10,  11,  12,\n",
       "        13,  14,  15,  16,  17,  18,  20,  21,  22,  23,  24,  25,  26,\n",
       "        27,  28,  29,  30,  31,  32,  33,  34,  35,  36,  37,  38,  39,\n",
       "        40,  41,  42,  43,  44,  45,  46,  47,  48,  49,  50,  51,  52,\n",
       "        53,  54,  55,  56,  57,  58,  59,  60,  61,  62,  63,  64,  65,\n",
       "        66,  67,  68,  70,  71,  72,  73,  74,  75,  76,  77,  78,  80,\n",
       "        81,  82,  83,  84,  85,  86,  87,  88,  89,  90,  91,  92,  93,\n",
       "        94,  95,  96,  97,  98,  99, 100, 103, 104, 105, 106, 107, 108,\n",
       "       109, 110, 111, 112, 113, 114, 115, 116, 117, 118, 119, 120, 121,\n",
       "       122, 123, 124, 125, 126, 127, 128, 129, 130, 132, 133, 134, 136,\n",
       "       137, 138, 139, 140, 141, 142, 143, 144, 145, 146, 147, 148, 149,\n",
       "       151, 152, 154, 155, 157, 159, 160, 161, 162, 163, 164, 165, 166,\n",
       "       167, 168, 169, 170, 171, 172, 173, 174, 175, 176, 177, 178, 179,\n",
       "       180, 181, 182, 183, 184, 185, 186, 187, 188, 189, 190, 191, 192,\n",
       "       193, 194, 195, 196, 197, 198], dtype=int64)"
      ]
     },
     "execution_count": 155,
     "metadata": {},
     "output_type": "execute_result"
    }
   ],
   "source": [
    "data[data['time_id']==220]['stock_id'].unique()"
   ]
  },
  {
   "cell_type": "code",
   "execution_count": 138,
   "metadata": {},
   "outputs": [
    {
     "data": {
      "text/plain": [
       "329"
      ]
     },
     "execution_count": 138,
     "metadata": {},
     "output_type": "execute_result"
    }
   ],
   "source": [
    "data['time_id'].max()"
   ]
  },
  {
   "cell_type": "code",
   "execution_count": 157,
   "metadata": {},
   "outputs": [
    {
     "data": {
      "text/html": [
       "<div>\n",
       "<style scoped>\n",
       "    .dataframe tbody tr th:only-of-type {\n",
       "        vertical-align: middle;\n",
       "    }\n",
       "\n",
       "    .dataframe tbody tr th {\n",
       "        vertical-align: top;\n",
       "    }\n",
       "\n",
       "    .dataframe thead th {\n",
       "        text-align: right;\n",
       "    }\n",
       "</style>\n",
       "<table border=\"1\" class=\"dataframe\">\n",
       "  <thead>\n",
       "    <tr style=\"text-align: right;\">\n",
       "      <th></th>\n",
       "      <th>stock_id</th>\n",
       "      <th>date_id</th>\n",
       "      <th>seconds_in_bucket</th>\n",
       "      <th>imbalance_size</th>\n",
       "      <th>imbalance_buy_sell_flag</th>\n",
       "      <th>reference_price</th>\n",
       "      <th>matched_size</th>\n",
       "      <th>far_price</th>\n",
       "      <th>near_price</th>\n",
       "      <th>bid_price</th>\n",
       "      <th>bid_size</th>\n",
       "      <th>ask_price</th>\n",
       "      <th>ask_size</th>\n",
       "      <th>wap</th>\n",
       "      <th>target</th>\n",
       "      <th>time_id</th>\n",
       "      <th>row_id</th>\n",
       "    </tr>\n",
       "  </thead>\n",
       "  <tbody>\n",
       "    <tr>\n",
       "      <th>40953</th>\n",
       "      <td>0</td>\n",
       "      <td>3</td>\n",
       "      <td>540</td>\n",
       "      <td>4785325.00</td>\n",
       "      <td>-1</td>\n",
       "      <td>0.998280</td>\n",
       "      <td>22303737.18</td>\n",
       "      <td>0.990578</td>\n",
       "      <td>0.995243</td>\n",
       "      <td>0.998280</td>\n",
       "      <td>52917.25</td>\n",
       "      <td>0.998388</td>\n",
       "      <td>160333.68</td>\n",
       "      <td>0.998307</td>\n",
       "      <td>-8.149743</td>\n",
       "      <td>219</td>\n",
       "      <td>3_540_0</td>\n",
       "    </tr>\n",
       "    <tr>\n",
       "      <th>40954</th>\n",
       "      <td>1</td>\n",
       "      <td>3</td>\n",
       "      <td>540</td>\n",
       "      <td>0.00</td>\n",
       "      <td>0</td>\n",
       "      <td>1.002769</td>\n",
       "      <td>3176068.93</td>\n",
       "      <td>1.002769</td>\n",
       "      <td>1.002769</td>\n",
       "      <td>1.002314</td>\n",
       "      <td>29254.18</td>\n",
       "      <td>1.002883</td>\n",
       "      <td>93807.56</td>\n",
       "      <td>1.002449</td>\n",
       "      <td>13.220310</td>\n",
       "      <td>219</td>\n",
       "      <td>3_540_1</td>\n",
       "    </tr>\n",
       "    <tr>\n",
       "      <th>40955</th>\n",
       "      <td>2</td>\n",
       "      <td>3</td>\n",
       "      <td>540</td>\n",
       "      <td>0.00</td>\n",
       "      <td>0</td>\n",
       "      <td>1.001531</td>\n",
       "      <td>2463111.96</td>\n",
       "      <td>1.001531</td>\n",
       "      <td>1.001531</td>\n",
       "      <td>1.000858</td>\n",
       "      <td>62809.50</td>\n",
       "      <td>1.001583</td>\n",
       "      <td>17599.40</td>\n",
       "      <td>1.001424</td>\n",
       "      <td>3.789663</td>\n",
       "      <td>219</td>\n",
       "      <td>3_540_2</td>\n",
       "    </tr>\n",
       "    <tr>\n",
       "      <th>40956</th>\n",
       "      <td>3</td>\n",
       "      <td>3</td>\n",
       "      <td>540</td>\n",
       "      <td>3883312.87</td>\n",
       "      <td>1</td>\n",
       "      <td>1.000434</td>\n",
       "      <td>74905949.11</td>\n",
       "      <td>1.001740</td>\n",
       "      <td>1.001740</td>\n",
       "      <td>1.000391</td>\n",
       "      <td>90767.05</td>\n",
       "      <td>1.000434</td>\n",
       "      <td>919.20</td>\n",
       "      <td>1.000434</td>\n",
       "      <td>-1.580119</td>\n",
       "      <td>219</td>\n",
       "      <td>3_540_3</td>\n",
       "    </tr>\n",
       "    <tr>\n",
       "      <th>40957</th>\n",
       "      <td>4</td>\n",
       "      <td>3</td>\n",
       "      <td>540</td>\n",
       "      <td>0.00</td>\n",
       "      <td>0</td>\n",
       "      <td>0.999825</td>\n",
       "      <td>30606040.06</td>\n",
       "      <td>0.999825</td>\n",
       "      <td>0.999825</td>\n",
       "      <td>0.999825</td>\n",
       "      <td>8643.70</td>\n",
       "      <td>0.999966</td>\n",
       "      <td>94243.80</td>\n",
       "      <td>0.999837</td>\n",
       "      <td>-1.860261</td>\n",
       "      <td>219</td>\n",
       "      <td>3_540_4</td>\n",
       "    </tr>\n",
       "    <tr>\n",
       "      <th>...</th>\n",
       "      <td>...</td>\n",
       "      <td>...</td>\n",
       "      <td>...</td>\n",
       "      <td>...</td>\n",
       "      <td>...</td>\n",
       "      <td>...</td>\n",
       "      <td>...</td>\n",
       "      <td>...</td>\n",
       "      <td>...</td>\n",
       "      <td>...</td>\n",
       "      <td>...</td>\n",
       "      <td>...</td>\n",
       "      <td>...</td>\n",
       "      <td>...</td>\n",
       "      <td>...</td>\n",
       "      <td>...</td>\n",
       "      <td>...</td>\n",
       "    </tr>\n",
       "    <tr>\n",
       "      <th>41135</th>\n",
       "      <td>194</td>\n",
       "      <td>3</td>\n",
       "      <td>540</td>\n",
       "      <td>499978.56</td>\n",
       "      <td>-1</td>\n",
       "      <td>1.002884</td>\n",
       "      <td>10446613.35</td>\n",
       "      <td>1.002051</td>\n",
       "      <td>1.002051</td>\n",
       "      <td>1.002884</td>\n",
       "      <td>105311.34</td>\n",
       "      <td>1.003162</td>\n",
       "      <td>87494.75</td>\n",
       "      <td>1.003036</td>\n",
       "      <td>-0.500083</td>\n",
       "      <td>219</td>\n",
       "      <td>3_540_194</td>\n",
       "    </tr>\n",
       "    <tr>\n",
       "      <th>41136</th>\n",
       "      <td>195</td>\n",
       "      <td>3</td>\n",
       "      <td>540</td>\n",
       "      <td>1470152.67</td>\n",
       "      <td>1</td>\n",
       "      <td>1.000429</td>\n",
       "      <td>27617343.11</td>\n",
       "      <td>1.000875</td>\n",
       "      <td>1.000763</td>\n",
       "      <td>1.000317</td>\n",
       "      <td>196333.50</td>\n",
       "      <td>1.000429</td>\n",
       "      <td>30484.40</td>\n",
       "      <td>1.000414</td>\n",
       "      <td>-3.420114</td>\n",
       "      <td>219</td>\n",
       "      <td>3_540_195</td>\n",
       "    </tr>\n",
       "    <tr>\n",
       "      <th>41137</th>\n",
       "      <td>196</td>\n",
       "      <td>3</td>\n",
       "      <td>540</td>\n",
       "      <td>3058056.58</td>\n",
       "      <td>-1</td>\n",
       "      <td>1.001250</td>\n",
       "      <td>10105108.52</td>\n",
       "      <td>1.000246</td>\n",
       "      <td>1.000413</td>\n",
       "      <td>1.001250</td>\n",
       "      <td>34026.20</td>\n",
       "      <td>1.001752</td>\n",
       "      <td>61146.26</td>\n",
       "      <td>1.001430</td>\n",
       "      <td>-15.950203</td>\n",
       "      <td>219</td>\n",
       "      <td>3_540_196</td>\n",
       "    </tr>\n",
       "    <tr>\n",
       "      <th>41138</th>\n",
       "      <td>197</td>\n",
       "      <td>3</td>\n",
       "      <td>540</td>\n",
       "      <td>0.00</td>\n",
       "      <td>0</td>\n",
       "      <td>1.000623</td>\n",
       "      <td>18074458.04</td>\n",
       "      <td>1.000623</td>\n",
       "      <td>1.000623</td>\n",
       "      <td>1.000418</td>\n",
       "      <td>100039.01</td>\n",
       "      <td>1.000623</td>\n",
       "      <td>39408.50</td>\n",
       "      <td>1.000565</td>\n",
       "      <td>-1.189709</td>\n",
       "      <td>219</td>\n",
       "      <td>3_540_197</td>\n",
       "    </tr>\n",
       "    <tr>\n",
       "      <th>41139</th>\n",
       "      <td>198</td>\n",
       "      <td>3</td>\n",
       "      <td>540</td>\n",
       "      <td>0.00</td>\n",
       "      <td>0</td>\n",
       "      <td>1.000584</td>\n",
       "      <td>55911674.41</td>\n",
       "      <td>1.000584</td>\n",
       "      <td>1.000584</td>\n",
       "      <td>1.000412</td>\n",
       "      <td>661987.17</td>\n",
       "      <td>1.000584</td>\n",
       "      <td>230443.00</td>\n",
       "      <td>1.000540</td>\n",
       "      <td>-5.440116</td>\n",
       "      <td>219</td>\n",
       "      <td>3_540_198</td>\n",
       "    </tr>\n",
       "  </tbody>\n",
       "</table>\n",
       "<p>187 rows × 17 columns</p>\n",
       "</div>"
      ],
      "text/plain": [
       "       stock_id  date_id  seconds_in_bucket  imbalance_size  \\\n",
       "40953         0        3                540      4785325.00   \n",
       "40954         1        3                540            0.00   \n",
       "40955         2        3                540            0.00   \n",
       "40956         3        3                540      3883312.87   \n",
       "40957         4        3                540            0.00   \n",
       "...         ...      ...                ...             ...   \n",
       "41135       194        3                540       499978.56   \n",
       "41136       195        3                540      1470152.67   \n",
       "41137       196        3                540      3058056.58   \n",
       "41138       197        3                540            0.00   \n",
       "41139       198        3                540            0.00   \n",
       "\n",
       "       imbalance_buy_sell_flag  reference_price  matched_size  far_price  \\\n",
       "40953                       -1         0.998280   22303737.18   0.990578   \n",
       "40954                        0         1.002769    3176068.93   1.002769   \n",
       "40955                        0         1.001531    2463111.96   1.001531   \n",
       "40956                        1         1.000434   74905949.11   1.001740   \n",
       "40957                        0         0.999825   30606040.06   0.999825   \n",
       "...                        ...              ...           ...        ...   \n",
       "41135                       -1         1.002884   10446613.35   1.002051   \n",
       "41136                        1         1.000429   27617343.11   1.000875   \n",
       "41137                       -1         1.001250   10105108.52   1.000246   \n",
       "41138                        0         1.000623   18074458.04   1.000623   \n",
       "41139                        0         1.000584   55911674.41   1.000584   \n",
       "\n",
       "       near_price  bid_price   bid_size  ask_price   ask_size       wap  \\\n",
       "40953    0.995243   0.998280   52917.25   0.998388  160333.68  0.998307   \n",
       "40954    1.002769   1.002314   29254.18   1.002883   93807.56  1.002449   \n",
       "40955    1.001531   1.000858   62809.50   1.001583   17599.40  1.001424   \n",
       "40956    1.001740   1.000391   90767.05   1.000434     919.20  1.000434   \n",
       "40957    0.999825   0.999825    8643.70   0.999966   94243.80  0.999837   \n",
       "...           ...        ...        ...        ...        ...       ...   \n",
       "41135    1.002051   1.002884  105311.34   1.003162   87494.75  1.003036   \n",
       "41136    1.000763   1.000317  196333.50   1.000429   30484.40  1.000414   \n",
       "41137    1.000413   1.001250   34026.20   1.001752   61146.26  1.001430   \n",
       "41138    1.000623   1.000418  100039.01   1.000623   39408.50  1.000565   \n",
       "41139    1.000584   1.000412  661987.17   1.000584  230443.00  1.000540   \n",
       "\n",
       "          target  time_id     row_id  \n",
       "40953  -8.149743      219    3_540_0  \n",
       "40954  13.220310      219    3_540_1  \n",
       "40955   3.789663      219    3_540_2  \n",
       "40956  -1.580119      219    3_540_3  \n",
       "40957  -1.860261      219    3_540_4  \n",
       "...          ...      ...        ...  \n",
       "41135  -0.500083      219  3_540_194  \n",
       "41136  -3.420114      219  3_540_195  \n",
       "41137 -15.950203      219  3_540_196  \n",
       "41138  -1.189709      219  3_540_197  \n",
       "41139  -5.440116      219  3_540_198  \n",
       "\n",
       "[187 rows x 17 columns]"
      ]
     },
     "execution_count": 157,
     "metadata": {},
     "output_type": "execute_result"
    }
   ],
   "source": [
    "data[data['time_id']==219]"
   ]
  },
  {
   "cell_type": "code",
   "execution_count": null,
   "metadata": {},
   "outputs": [],
   "source": []
  }
 ],
 "metadata": {
  "kernelspec": {
   "display_name": "torchenv",
   "language": "python",
   "name": "python3"
  },
  "language_info": {
   "codemirror_mode": {
    "name": "ipython",
    "version": 3
   },
   "file_extension": ".py",
   "mimetype": "text/x-python",
   "name": "python",
   "nbconvert_exporter": "python",
   "pygments_lexer": "ipython3",
   "version": "3.9.18"
  }
 },
 "nbformat": 4,
 "nbformat_minor": 2
}
